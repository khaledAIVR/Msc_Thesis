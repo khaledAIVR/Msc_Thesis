{
  "nbformat": 4,
  "nbformat_minor": 0,
  "metadata": {
    "colab": {
      "provenance": [],
      "gpuType": "T4",
      "include_colab_link": true
    },
    "kernelspec": {
      "name": "python3",
      "display_name": "Python 3"
    },
    "language_info": {
      "name": "python"
    },
    "accelerator": "GPU"
  },
  "cells": [
    {
      "cell_type": "markdown",
      "metadata": {
        "id": "view-in-github",
        "colab_type": "text"
      },
      "source": [
        "<a href=\"https://colab.research.google.com/github/khaledAIVR/Msc_Thesis/blob/main/colab_connect_main.ipynb\" target=\"_parent\"><img src=\"https://colab.research.google.com/assets/colab-badge.svg\" alt=\"Open In Colab\"/></a>"
      ]
    },
    {
      "cell_type": "code",
      "source": [
        "!pip install -q condacolab\n",
        "import condacolab\n",
        "condacolab.install()"
      ],
      "metadata": {
        "colab": {
          "base_uri": "https://localhost:8080/"
        },
        "id": "LNHcdsINYe6r",
        "outputId": "4d80388f-0e65-4595-9872-ece65e598b30"
      },
      "execution_count": 1,
      "outputs": [
        {
          "output_type": "stream",
          "name": "stdout",
          "text": [
            "⏬ Downloading https://github.com/jaimergp/miniforge/releases/download/24.11.2-1_colab/Miniforge3-colab-24.11.2-1_colab-Linux-x86_64.sh...\n",
            "📦 Installing...\n",
            "📌 Adjusting configuration...\n",
            "🩹 Patching environment...\n",
            "⏲ Done in 0:00:13\n",
            "🔁 Restarting kernel...\n"
          ]
        }
      ]
    },
    {
      "cell_type": "code",
      "source": [
        "import condacolab\n",
        "condacolab.check()"
      ],
      "metadata": {
        "colab": {
          "base_uri": "https://localhost:8080/"
        },
        "id": "GvTscOkJYqC3",
        "outputId": "9dcb4ef1-bdc9-4195-a476-8f9185bf4ef0"
      },
      "execution_count": 1,
      "outputs": [
        {
          "output_type": "stream",
          "name": "stdout",
          "text": [
            "✨🍰✨ Everything looks OK!\n"
          ]
        }
      ]
    },
    {
      "cell_type": "code",
      "source": [
        "!git clone https://github.com/Layne-Huang/PMDM.git"
      ],
      "metadata": {
        "colab": {
          "base_uri": "https://localhost:8080/"
        },
        "id": "Kv4tuJ6ZYsgB",
        "outputId": "e0e8f4ec-57b4-441a-da32-56e4d112287a"
      },
      "execution_count": 2,
      "outputs": [
        {
          "output_type": "stream",
          "name": "stdout",
          "text": [
            "Cloning into 'PMDM'...\n",
            "remote: Enumerating objects: 634, done.\u001b[K\n",
            "remote: Counting objects: 100% (133/133), done.\u001b[K\n",
            "remote: Compressing objects: 100% (44/44), done.\u001b[K\n",
            "remote: Total 634 (delta 113), reused 88 (delta 88), pack-reused 501 (from 5)\u001b[K\n",
            "Receiving objects: 100% (634/634), 24.54 MiB | 25.18 MiB/s, done.\n",
            "Resolving deltas: 100% (268/268), done.\n"
          ]
        }
      ]
    },
    {
      "cell_type": "code",
      "source": [
        "!conda init"
      ],
      "metadata": {
        "colab": {
          "base_uri": "https://localhost:8080/"
        },
        "id": "VGFSM2TlYupF",
        "outputId": "22391ae6-371b-48a6-f393-2e765703cf55"
      },
      "execution_count": 4,
      "outputs": [
        {
          "output_type": "stream",
          "name": "stdout",
          "text": [
            "no change     /usr/local/condabin/conda\n",
            "no change     /usr/local/bin/conda\n",
            "no change     /usr/local/bin/conda-env\n",
            "no change     /usr/local/bin/activate\n",
            "no change     /usr/local/bin/deactivate\n",
            "no change     /usr/local/etc/profile.d/conda.sh\n",
            "no change     /usr/local/etc/fish/conf.d/conda.fish\n",
            "no change     /usr/local/shell/condabin/Conda.psm1\n",
            "no change     /usr/local/shell/condabin/conda-hook.ps1\n",
            "no change     /usr/local/lib/python3.11/site-packages/xontrib/conda.xsh\n",
            "no change     /usr/local/etc/profile.d/conda.csh\n",
            "modified      /root/.bashrc\n",
            "\n",
            "==> For changes to take effect, close and re-open your current shell. <==\n",
            "\n"
          ]
        }
      ]
    },
    {
      "cell_type": "code",
      "source": [
        "!source ~/.bashrc"
      ],
      "metadata": {
        "id": "RdvuwRnlYw5A"
      },
      "execution_count": 5,
      "outputs": []
    },
    {
      "cell_type": "code",
      "source": [
        "!cp /content/drive/MyDrive/Klakow_Thesis/500.pt /content/PMDM/"
      ],
      "metadata": {
        "id": "jxN6dZq_b-2k"
      },
      "execution_count": null,
      "outputs": []
    },
    {
      "cell_type": "code",
      "source": [
        "!cp /content/drive/MyDrive/Klakow_Thesis/crossdocked_pocket10.tar.gz /content/PMDM/"
      ],
      "metadata": {
        "id": "zAyAX5Zjb_R9"
      },
      "execution_count": null,
      "outputs": []
    },
    {
      "cell_type": "code",
      "source": [
        "!tar -xzf /content/drive/MyDrive/Klakow_Thesis/crossdocked_pocket10.tar.gz -C /content/PMDM/data/\n"
      ],
      "metadata": {
        "id": "iyRuJKxEcEyd"
      },
      "execution_count": null,
      "outputs": []
    },
    {
      "cell_type": "code",
      "source": [],
      "metadata": {
        "id": "96DHVgiDYo26"
      },
      "execution_count": null,
      "outputs": []
    },
    {
      "cell_type": "code",
      "execution_count": 6,
      "metadata": {
        "colab": {
          "base_uri": "https://localhost:8080/"
        },
        "id": "bp51BQlMOTmf",
        "outputId": "07375d3a-8bd6-489f-e059-a7a2d699b0b8"
      },
      "outputs": [
        {
          "output_type": "stream",
          "name": "stdout",
          "text": [
            "Collecting git+https://github.com/amitness/colab-connect.git\n",
            "  Cloning https://github.com/amitness/colab-connect.git to /tmp/pip-req-build-d8bv4wvn\n",
            "  Running command git clone --filter=blob:none --quiet https://github.com/amitness/colab-connect.git /tmp/pip-req-build-d8bv4wvn\n",
            "  Resolved https://github.com/amitness/colab-connect.git to commit a2e2c7901fc57e4d833645925243582081ee00e8\n",
            "  Preparing metadata (setup.py) ... \u001b[?25l\u001b[?25hdone\n",
            "Building wheels for collected packages: colabconnect\n",
            "  Building wheel for colabconnect (setup.py) ... \u001b[?25l\u001b[?25hdone\n",
            "  Created wheel for colabconnect: filename=colabconnect-0.0.8-py3-none-any.whl size=4901 sha256=c1e55d952bfd2f42a626a117326204cffdc88bd5f77fad65399f15dce0c099ba\n",
            "  Stored in directory: /tmp/pip-ephem-wheel-cache-e4skrshc/wheels/f5/6a/d6/b08b1226dbea3b0c022c25db8a99a9b6cad2973d7a8894c663\n",
            "Successfully built colabconnect\n",
            "Installing collected packages: colabconnect\n",
            "Successfully installed colabconnect-0.0.8\n"
          ]
        }
      ],
      "source": [
        "!pip install -U git+https://github.com/amitness/colab-connect.git"
      ]
    },
    {
      "cell_type": "code",
      "source": [
        "from colabconnect import colabconnect\n",
        "\n",
        "colabconnect()"
      ],
      "metadata": {
        "colab": {
          "base_uri": "https://localhost:8080/"
        },
        "id": "Baq8c5gmO6RP",
        "outputId": "4646d5fa-ffa7-431d-8987-9dbb710dc28c"
      },
      "execution_count": null,
      "outputs": [
        {
          "output_type": "stream",
          "name": "stdout",
          "text": [
            "Mounting Google Drive...\n",
            "Mounted at /content/drive\n",
            "Ran: ln -s /content/drive/MyDrive/colab/ /\n",
            "Installing python libraries...\n",
            "Ran: pip3 install --user flake8 black ipywidgets twine\n",
            "Ran: pip3 install -U ipykernel\n",
            "Ran: apt install htop -y\n",
            "Installing vscode-cli...\n",
            "Ran: curl -Lk https://code.visualstudio.com/sha/download?build=stable&os=cli-alpine-x64 --output vscode_cli.tar.gz\n",
            "Ran: tar -xf vscode_cli.tar.gz\n",
            "Starting the tunnel\n",
            "To grant access to the server, please log into https://github.com/login/device and use code 25A9-EE8F\n",
            "Starting the tunnel\n",
            "- Ready!\n",
            "- Open VSCode on your laptop and open the command prompt\n",
            "- Select: 'Remote-Tunnels: Connect to Tunnel' to connect to colab\n",
            "Logs:\n",
            "\n",
            "[2025-06-03 15:25:07] info [tunnels::connections::relay_tunnel_host] Opened new client on channel 2\n",
            "[2025-06-03 15:25:07] info [russh::server] wrote id\n",
            "[2025-06-03 15:25:08] info [russh::server] read other id\n",
            "[2025-06-03 15:25:08] info [russh::server] session is running\n",
            "[2025-06-03 15:25:10] info [rpc.0] Checking /root/.vscode/cli/servers/Stable-e54c774e0add60467559eb0d1e229c6452cf8447/log.txt and /root/.vscode/cli/servers/Stable-e54c774e0add60467559eb0d1e229c6452cf8447/pid.txt for a running server...\n",
            "[2025-06-03 15:25:10] info [rpc.0] Downloading Visual Studio Code server -> /tmp/.tmpAgYaHI/vscode-server-linux-x64.tar.gz\n",
            "[2025-06-03 15:25:13] info [rpc.0] Starting server...\n",
            "[2025-06-03 15:25:13] info [rpc.0] Server started\n",
            "[2025-06-03 15:25:23] warn [rpc.0] error handling call: NoAttachedServerError(NoAttachedServerError)\n",
            "[2025-06-03 15:25:24] warn [rpc.0] error handling call: NoAttachedServerError(NoAttachedServerError)\n",
            "[2025-06-03 15:25:41] info [tunnels::connections::relay_tunnel_host] Opened new client on channel 3\n",
            "[2025-06-03 15:25:41] info [russh::server] wrote id\n",
            "[2025-06-03 15:25:41] info [tunnels::connections::relay_tunnel_host] Opened new client on channel 4\n",
            "[2025-06-03 15:25:41] info [russh::server] wrote id\n",
            "[2025-06-03 15:25:41] info [russh::server] read other id\n",
            "[2025-06-03 15:25:41] info [russh::server] session is running\n",
            "[2025-06-03 15:25:41] info [russh::server] read other id\n",
            "[2025-06-03 15:25:41] info [russh::server] session is running\n"
          ]
        }
      ]
    },
    {
      "cell_type": "code",
      "source": [
        "# Do this in the terminal\n",
        "mkdir -p /opt/envs/mol\n",
        "tar -xzf /content/drive/MyDrive/Klakow_Thesis/envs/mol_env.tar.gz  -C /opt/envs/mol\n",
        "/opt/envs/mol/bin/conda-unpack\n",
        "mkdir -p /usr/local/envs          # base_prefix + /envs\n",
        "ln -s /opt/envs/mol /usr/local/envs/mol\n",
        "source /usr/local/etc/profile.d/conda.sh\n",
        "conda activate mol"
      ],
      "metadata": {
        "id": "W8m0sr9ZYhny"
      },
      "execution_count": null,
      "outputs": []
    },
    {
      "cell_type": "code",
      "source": [
        "# Do this in the terminal\n",
        "wget https://github.com/QVina/qvina/raw/master/bin/qvina2.1\n",
        "chmod +x qvina2.1"
      ],
      "metadata": {
        "id": "XM-lxfqmeaN5"
      },
      "execution_count": null,
      "outputs": []
    }
  ]
}